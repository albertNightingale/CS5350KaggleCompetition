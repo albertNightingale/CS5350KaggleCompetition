{
 "cells": [
  {
   "cell_type": "code",
   "execution_count": 1,
   "id": "905ec6f5",
   "metadata": {},
   "outputs": [],
   "source": [
    "import numpy as np\n",
    "\n",
    "from sklearn import metrics\n",
    "from sklearn import preprocessing \n",
    "\n",
    "from sklearn.linear_model import Perceptron"
   ]
  },
  {
   "cell_type": "code",
   "execution_count": 21,
   "id": "b2383532",
   "metadata": {},
   "outputs": [],
   "source": [
    "def convert_numerical_cols(data, numeric_cols):    \n",
    "    for col in numeric_cols:\n",
    "        median = np.median(data[:, col].astype(float))\n",
    "        for d in data: \n",
    "            if float(d[col]) <= median:\n",
    "                d[col] = 0\n",
    "            else:\n",
    "                d[col] = 1\n",
    "    return data\n",
    "\n",
    "def convert_categorical_cols(data, categorical_cols):\n",
    "    n_row, n_col = data.shape\n",
    "    \n",
    "    for col in categorical_cols:\n",
    "        s = data[:,col:col+1]\n",
    "        _cats = np.unique(s).reshape(-1, 1)\n",
    "        ohe = preprocessing.OneHotEncoder()\n",
    "        ohe.fit(_cats)\n",
    "        d = ohe.transform(_cats).todense()\n",
    "        for i, _cat in enumerate(_cats):\n",
    "            np.putmask(s, s==_cat, d[i])\n",
    "            # s[s==_cat] = d[i]\n",
    "        \n",
    "        data[:,col:col+1] = s\n",
    "\n",
    "    return data\n",
    "\n",
    "def process(file):\n",
    "    data = np.genfromtxt(file, delimiter=',', dtype='str')\n",
    "\n",
    "    data = data[1:data.shape[0],]\n",
    "    n_row, n_col = data.shape\n",
    "\n",
    "    return data[:,0:n_col-1], data[:,n_col-1]\n",
    "\n",
    "def process_test(file):\n",
    "    data = np.genfromtxt(file, delimiter=',', dtype='str')\n",
    "\n",
    "    data = data[1:data.shape[0],]\n",
    "    n_row, n_col = data.shape\n",
    "\n",
    "    return data[:,0:1], data[:,1:n_col]"
   ]
  },
  {
   "cell_type": "code",
   "execution_count": 3,
   "id": "0c17f72a",
   "metadata": {},
   "outputs": [],
   "source": [
    "numeric_cols = [0, 2, 4, 10, 11, 12]\n",
    "categorical_cols = [1, 3, 5, 6, 7, 8, 9, 13]"
   ]
  },
  {
   "cell_type": "code",
   "execution_count": 22,
   "id": "5ce60d3a",
   "metadata": {},
   "outputs": [
    {
     "ename": "TypeError",
     "evalue": "Cannot cast array data from dtype('float64') to dtype('<U26') according to the rule 'safe'",
     "output_type": "error",
     "traceback": [
      "\u001b[0;31m---------------------------------------------------------------------------\u001b[0m",
      "\u001b[0;31mTypeError\u001b[0m                                 Traceback (most recent call last)",
      "Cell \u001b[0;32mIn [22], line 5\u001b[0m\n\u001b[1;32m      2\u001b[0m X, Y \u001b[38;5;241m=\u001b[39m process(\u001b[38;5;124m'\u001b[39m\u001b[38;5;124m./data/train_final.csv\u001b[39m\u001b[38;5;124m'\u001b[39m)\n\u001b[1;32m      4\u001b[0m X \u001b[38;5;241m=\u001b[39m convert_numerical_cols(X, numeric_cols)\n\u001b[0;32m----> 5\u001b[0m X \u001b[38;5;241m=\u001b[39m \u001b[43mconvert_categorical_cols\u001b[49m\u001b[43m(\u001b[49m\u001b[43mX\u001b[49m\u001b[43m,\u001b[49m\u001b[43m \u001b[49m\u001b[43mcategorical_cols\u001b[49m\u001b[43m)\u001b[49m\n\u001b[1;32m      8\u001b[0m \u001b[38;5;66;03m# create decision tree\u001b[39;00m\n\u001b[1;32m      9\u001b[0m clf \u001b[38;5;241m=\u001b[39m Perceptron(tol\u001b[38;5;241m=\u001b[39m\u001b[38;5;241m1e-3\u001b[39m, random_state\u001b[38;5;241m=\u001b[39m\u001b[38;5;241m0\u001b[39m)\u001b[38;5;241m.\u001b[39mfit(X, Y)\n",
      "Cell \u001b[0;32mIn [21], line 21\u001b[0m, in \u001b[0;36mconvert_categorical_cols\u001b[0;34m(data, categorical_cols)\u001b[0m\n\u001b[1;32m     19\u001b[0m d \u001b[38;5;241m=\u001b[39m ohe\u001b[38;5;241m.\u001b[39mtransform(_cats)\u001b[38;5;241m.\u001b[39mtodense()\n\u001b[1;32m     20\u001b[0m \u001b[38;5;28;01mfor\u001b[39;00m i, _cat \u001b[38;5;129;01min\u001b[39;00m \u001b[38;5;28menumerate\u001b[39m(_cats):\n\u001b[0;32m---> 21\u001b[0m     \u001b[43mnp\u001b[49m\u001b[38;5;241;43m.\u001b[39;49m\u001b[43mputmask\u001b[49m\u001b[43m(\u001b[49m\u001b[43ms\u001b[49m\u001b[43m,\u001b[49m\u001b[43m \u001b[49m\u001b[43ms\u001b[49m\u001b[38;5;241;43m==\u001b[39;49m\u001b[43m_cat\u001b[49m\u001b[43m,\u001b[49m\u001b[43m \u001b[49m\u001b[43md\u001b[49m\u001b[43m[\u001b[49m\u001b[43mi\u001b[49m\u001b[43m]\u001b[49m\u001b[43m)\u001b[49m\n\u001b[1;32m     22\u001b[0m     \u001b[38;5;66;03m# s[s==_cat] = d[i]\u001b[39;00m\n\u001b[1;32m     24\u001b[0m data[:,col:col\u001b[38;5;241m+\u001b[39m\u001b[38;5;241m1\u001b[39m] \u001b[38;5;241m=\u001b[39m s\n",
      "File \u001b[0;32m<__array_function__ internals>:180\u001b[0m, in \u001b[0;36mputmask\u001b[0;34m(*args, **kwargs)\u001b[0m\n",
      "\u001b[0;31mTypeError\u001b[0m: Cannot cast array data from dtype('float64') to dtype('<U26') according to the rule 'safe'"
     ]
    }
   ],
   "source": [
    "## read data\n",
    "X, Y = process('./data/train_final.csv')\n",
    "\n",
    "X = convert_numerical_cols(X, numeric_cols)\n",
    "X = convert_categorical_cols(X, categorical_cols)\n",
    "\n",
    "\n",
    "# create decision tree\n",
    "clf = Perceptron(tol=1e-3, random_state=0).fit(X, Y)"
   ]
  },
  {
   "cell_type": "code",
   "execution_count": 5,
   "id": "1b2e37ec",
   "metadata": {},
   "outputs": [
    {
     "name": "stdout",
     "output_type": "stream",
     "text": [
      "(23842, 14)\n"
     ]
    }
   ],
   "source": [
    "test_numeric_cols = [0, 2, 4, 10, 11, 12]\n",
    "test_categorical_cols = [1, 3, 5, 6, 7, 8, 9, 13]\n",
    "_ids, TEST_X = process_test('./data/test_final.csv')\n",
    "\n",
    "print(TEST_X.shape)\n",
    "TEST_X = convert_numerical_cols(TEST_X, test_numeric_cols)\n",
    "TEST_X = convert_categorical_cols(TEST_X, test_categorical_cols)"
   ]
  },
  {
   "cell_type": "code",
   "execution_count": 6,
   "id": "d2476a05",
   "metadata": {},
   "outputs": [
    {
     "ename": "AttributeError",
     "evalue": "'Perceptron' object has no attribute 'predict_proba'",
     "output_type": "error",
     "traceback": [
      "\u001b[0;31m---------------------------------------------------------------------------\u001b[0m",
      "\u001b[0;31mAttributeError\u001b[0m                            Traceback (most recent call last)",
      "Cell \u001b[0;32mIn [6], line 2\u001b[0m\n\u001b[1;32m      1\u001b[0m \u001b[38;5;66;03m# probability of each class\u001b[39;00m\n\u001b[0;32m----> 2\u001b[0m results \u001b[38;5;241m=\u001b[39m \u001b[43mclf\u001b[49m\u001b[38;5;241;43m.\u001b[39;49m\u001b[43mpredict_proba\u001b[49m(TEST_X)\n",
      "\u001b[0;31mAttributeError\u001b[0m: 'Perceptron' object has no attribute 'predict_proba'"
     ]
    }
   ],
   "source": [
    "# probability of each class\n",
    "results = clf.predict_proba(TEST_X)"
   ]
  }
 ],
 "metadata": {
  "kernelspec": {
   "display_name": "Python 3 (ipykernel)",
   "language": "python",
   "name": "python3"
  },
  "language_info": {
   "codemirror_mode": {
    "name": "ipython",
    "version": 3
   },
   "file_extension": ".py",
   "mimetype": "text/x-python",
   "name": "python",
   "nbconvert_exporter": "python",
   "pygments_lexer": "ipython3",
   "version": "3.9.12"
  }
 },
 "nbformat": 4,
 "nbformat_minor": 5
}
