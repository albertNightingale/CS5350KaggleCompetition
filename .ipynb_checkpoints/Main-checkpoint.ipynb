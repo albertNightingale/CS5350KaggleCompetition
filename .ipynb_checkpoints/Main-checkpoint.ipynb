{
 "cells": [
  {
   "cell_type": "code",
   "execution_count": 1,
   "id": "76f0302f",
   "metadata": {},
   "outputs": [],
   "source": [
    "import numpy as np\n",
    "from sklearn.tree import DecisionTreeClassifier\n",
    "from sklearn import metrics\n",
    "\n",
    "from sklearn import tree\n",
    "from sklearn import preprocessing "
   ]
  },
  {
   "cell_type": "code",
   "execution_count": 2,
   "id": "d619b7d2",
   "metadata": {},
   "outputs": [],
   "source": [
    "def convert_numerical_cols(data, numeric_cols):    \n",
    "    for col in numeric_cols:\n",
    "        median = np.median(data[:, col].astype(float))\n",
    "        for d in data: \n",
    "            if float(d[col]) <= median:\n",
    "                d[col] = 0\n",
    "            else:\n",
    "                d[col] = 1\n",
    "    return data\n",
    "\n",
    "def convert_categorical_cols(data, categorical_cols):\n",
    "    n_row, n_col = data.shape\n",
    "    \n",
    "    for col in categorical_cols:\n",
    "        s = data[:,col:col+1]\n",
    "        enc = preprocessing.LabelEncoder()\n",
    "        d = enc.fit_transform(s.reshape(n_row))\n",
    "        data[:,col:col+1] = d.reshape(n_row, 1)\n",
    "\n",
    "    return data\n",
    "\n",
    "def process(file):\n",
    "    data = np.genfromtxt(file, delimiter=',', dtype='str')\n",
    "\n",
    "    data = data[1:data.shape[0],]\n",
    "    n_row, n_col = data.shape\n",
    "\n",
    "    return data[:,0:n_col-1], data[:,n_col-1]\n",
    "\n",
    "def process_test(file):\n",
    "    data = np.genfromtxt(file, delimiter=',', dtype='str')\n",
    "\n",
    "    data = data[1:data.shape[0],]\n",
    "    n_row, n_col = data.shape\n",
    "\n",
    "    return data[:,0:1], data[:,1:n_col]"
   ]
  },
  {
   "cell_type": "code",
   "execution_count": 3,
   "id": "423e6da8",
   "metadata": {},
   "outputs": [],
   "source": [
    "numeric_cols = [0, 2, 4, 10, 11, 12]\n",
    "categorical_cols = [1, 3, 5, 6, 7, 8, 9, 13]"
   ]
  },
  {
   "cell_type": "code",
   "execution_count": 4,
   "id": "cf4e201a",
   "metadata": {
    "scrolled": false
   },
   "outputs": [],
   "source": [
    "# read data\n",
    "X, Y = process('./data/train_final.csv')\n",
    "\n",
    "X = convert_numerical_cols(X, numeric_cols)\n",
    "X = convert_categorical_cols(X, categorical_cols)\n",
    "\n",
    "\n",
    "# create decision tree\n",
    "clf = DecisionTreeClassifier().fit(X, Y)\n",
    "\n",
    "# tree.plot_tree(clf)"
   ]
  },
  {
   "cell_type": "code",
   "execution_count": 5,
   "id": "dc1f2d15",
   "metadata": {},
   "outputs": [
    {
     "name": "stdout",
     "output_type": "stream",
     "text": [
      "(23842, 14)\n"
     ]
    }
   ],
   "source": [
    "test_numeric_cols = [0, 2, 4, 10, 11, 12]\n",
    "test_categorical_cols = [1, 3, 5, 6, 7, 8, 9, 13]\n",
    "_ids, TEST_X = process_test('./data/test_final.csv')\n",
    "\n",
    "print(TEST_X.shape)\n",
    "TEST_X = convert_numerical_cols(TEST_X, test_numeric_cols)\n",
    "TEST_X = convert_categorical_cols(TEST_X, test_categorical_cols)"
   ]
  },
  {
   "cell_type": "code",
   "execution_count": 6,
   "id": "0bf2b455",
   "metadata": {},
   "outputs": [],
   "source": [
    "# probability of each class\n",
    "results = clf.predict_proba(TEST_X)"
   ]
  },
  {
   "cell_type": "code",
   "execution_count": 7,
   "id": "5620e35e",
   "metadata": {},
   "outputs": [
    {
     "data": {
      "text/plain": [
       "(23842, 2)"
      ]
     },
     "execution_count": 7,
     "metadata": {},
     "output_type": "execute_result"
    }
   ],
   "source": [
    "# generate result\n",
    "auc_map = np.zeros((TEST_X.shape[0], 2))\n",
    "for i in range(auc_map.shape[0]):\n",
    "    auc_map[i][0] = _ids[i]\n",
    "    auc_map[i][1] = np.amax(results[i])\n",
    "    \n",
    "auc_map.shape"
   ]
  },
  {
   "cell_type": "code",
   "execution_count": 8,
   "id": "71a0d73b",
   "metadata": {},
   "outputs": [
    {
     "ename": "IndexError",
     "evalue": "index 23841 is out of bounds for axis 0 with size 2",
     "output_type": "error",
     "traceback": [
      "\u001b[0;31m---------------------------------------------------------------------------\u001b[0m",
      "\u001b[0;31mIndexError\u001b[0m                                Traceback (most recent call last)",
      "Input \u001b[0;32mIn [8]\u001b[0m, in \u001b[0;36m<cell line: 11>\u001b[0;34m()\u001b[0m\n\u001b[1;32m      9\u001b[0m writer \u001b[38;5;241m=\u001b[39m csv\u001b[38;5;241m.\u001b[39mwriter(f)\n\u001b[1;32m     11\u001b[0m \u001b[38;5;28;01mfor\u001b[39;00m row \u001b[38;5;129;01min\u001b[39;00m auc_map:\n\u001b[0;32m---> 12\u001b[0m     _id \u001b[38;5;241m=\u001b[39m \u001b[38;5;28mstr\u001b[39m(\u001b[38;5;28mint\u001b[39m(\u001b[43mrow\u001b[49m\u001b[43m[\u001b[49m\u001b[43mi\u001b[49m\u001b[43m]\u001b[49m))\n\u001b[1;32m     13\u001b[0m     pred \u001b[38;5;241m=\u001b[39m \u001b[38;5;124m\"\u001b[39m\u001b[38;5;132;01m{:.2f}\u001b[39;00m\u001b[38;5;124m\"\u001b[39m\u001b[38;5;241m.\u001b[39mformat(\u001b[38;5;28mfloat\u001b[39m(row[i]))\n\u001b[1;32m     14\u001b[0m     writer\u001b[38;5;241m.\u001b[39mwriterow([\u001b[38;5;28mint\u001b[39m(_id), pred])\n",
      "\u001b[0;31mIndexError\u001b[0m: index 23841 is out of bounds for axis 0 with size 2"
     ]
    }
   ],
   "source": [
    "# file\n",
    "# np.savetxt(\"./result/result.csv\", auc_map, delimiter=\",\")\n",
    "import csv\n",
    "\n",
    "\n",
    "# open the file in the write mode\n",
    "f = open('./result/result.csv', 'w')\n",
    "# create the csv writer\n",
    "writer = csv.writer(f)\n",
    "\n",
    "for row in auc_map:\n",
    "    _id = str(int(row[0]))\n",
    "    pred = \"{:.2f}\".format(float(row[1]))\n",
    "    writer.writerow([int(_id), pred])\n",
    "\n",
    "# close the file\n",
    "f.close()"
   ]
  }
 ],
 "metadata": {
  "kernelspec": {
   "display_name": "Python 3 (ipykernel)",
   "language": "python",
   "name": "python3"
  },
  "language_info": {
   "codemirror_mode": {
    "name": "ipython",
    "version": 3
   },
   "file_extension": ".py",
   "mimetype": "text/x-python",
   "name": "python",
   "nbconvert_exporter": "python",
   "pygments_lexer": "ipython3",
   "version": "3.9.12"
  }
 },
 "nbformat": 4,
 "nbformat_minor": 5
}
