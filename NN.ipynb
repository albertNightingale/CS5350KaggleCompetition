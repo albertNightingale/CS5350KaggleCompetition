{
 "cells": [
  {
   "cell_type": "code",
   "execution_count": 1,
   "id": "18d660cd",
   "metadata": {},
   "outputs": [],
   "source": [
    "import os\n",
    "import torch\n",
    "import numpy as np\n",
    "from sklearn import preprocessing"
   ]
  },
  {
   "cell_type": "code",
   "execution_count": 2,
   "id": "e6e6bd87",
   "metadata": {},
   "outputs": [],
   "source": [
    "from torch import nn\n",
    "import torch.optim as optim\n",
    "from torch.utils.data import Dataset, DataLoader"
   ]
  },
  {
   "cell_type": "code",
   "execution_count": 3,
   "id": "b0174022",
   "metadata": {},
   "outputs": [
    {
     "name": "stdout",
     "output_type": "stream",
     "text": [
      "Using cpu device\n"
     ]
    }
   ],
   "source": [
    "device = \"cuda\" if torch.cuda.is_available() else \"cpu\"\n",
    "print(f\"Using {device} device\")"
   ]
  },
  {
   "cell_type": "markdown",
   "id": "27ab5835",
   "metadata": {},
   "source": [
    "## Loading Dataset"
   ]
  },
  {
   "cell_type": "code",
   "execution_count": 4,
   "id": "fc9a7bd9",
   "metadata": {},
   "outputs": [],
   "source": [
    "class Custom_Dataset(Dataset):\n",
    "    def __init__(self, file, encode_categorical=False, train=False):\n",
    "        self.train = train\n",
    "        self.loadedFrom = file\n",
    "        \n",
    "        data = np.genfromtxt(file, delimiter=',', dtype='str')\n",
    "        data = data[1:data.shape[0],]\n",
    "        n_row, n_col = data.shape\n",
    "        self.X, self.Y = data[:,0:n_col-1].astype(np.float64), data[:,n_col-1].astype(np.float64)\n",
    "    \n",
    "        # oe = preprocessing.OrdinalEncoder()\n",
    "        # oe.fit(self.X)\n",
    "        # self.X = oe.transform(self.X)\n",
    "                \n",
    "    def __len__(self):\n",
    "        return self.X.shape[0]\n",
    "\n",
    "    def __getitem__(self, idx):\n",
    "        return self.X[idx], self.Y[idx]"
   ]
  },
  {
   "cell_type": "code",
   "execution_count": 5,
   "id": "cdc36e69",
   "metadata": {},
   "outputs": [],
   "source": [
    "train_path = './data/banknote/train.csv'\n",
    "test_path = './data/banknote/test.csv'"
   ]
  },
  {
   "cell_type": "code",
   "execution_count": 6,
   "id": "13cf4661",
   "metadata": {},
   "outputs": [],
   "source": [
    "dataset_train = Custom_Dataset(train_path, train=True)"
   ]
  },
  {
   "cell_type": "code",
   "execution_count": 7,
   "id": "c0b12027",
   "metadata": {},
   "outputs": [],
   "source": [
    "train_batch_size = 1\n",
    "train_size = len(dataset_train)"
   ]
  },
  {
   "cell_type": "code",
   "execution_count": 8,
   "id": "05f877f5",
   "metadata": {},
   "outputs": [],
   "source": [
    "train_loader = DataLoader(dataset_train, batch_size=train_batch_size, shuffle=True)\n",
    "\n",
    "# x_tr, y_tr = next(iter(train_loader))\n",
    "# y_tr = torch.from_numpy(np.asarray(y_tr))\n",
    "# print(y_tr)"
   ]
  },
  {
   "cell_type": "code",
   "execution_count": 9,
   "id": "a84bec21",
   "metadata": {},
   "outputs": [],
   "source": [
    "class NeuralNetwork(nn.Module):\n",
    "    def __init__(self, input_shape=14):\n",
    "        super(NeuralNetwork, self).__init__()        \n",
    "        self.stack = nn.Sequential(\n",
    "            nn.Linear(input_shape, 10),\n",
    "            nn.Sigmoid(),\n",
    "            nn.Linear(10, 10),\n",
    "            nn.Sigmoid(),\n",
    "            nn.Linear(10, 1),\n",
    "            nn.Sigmoid(),\n",
    "        )\n",
    "        \n",
    "        for module in self.modules():\n",
    "            if isinstance(module, nn.Linear):\n",
    "                print(module)\n",
    "                nn.init.uniform_(module.weight)\n",
    "        \n",
    "        self.loss = nn.L1Loss()\n",
    "        self.double()\n",
    "        \n",
    "    def forward(self, x):        \n",
    "        h = x\n",
    "        for layer in self.stack:\n",
    "            h = layer(h)\n",
    "        return h"
   ]
  },
  {
   "cell_type": "code",
   "execution_count": 10,
   "id": "5a3d934f",
   "metadata": {},
   "outputs": [
    {
     "name": "stdout",
     "output_type": "stream",
     "text": [
      "Linear(in_features=4, out_features=10, bias=True)\n",
      "Linear(in_features=10, out_features=10, bias=True)\n",
      "Linear(in_features=10, out_features=1, bias=True)\n",
      "NeuralNetwork(\n",
      "  (stack): Sequential(\n",
      "    (0): Linear(in_features=4, out_features=10, bias=True)\n",
      "    (1): Sigmoid()\n",
      "    (2): Linear(in_features=10, out_features=10, bias=True)\n",
      "    (3): Sigmoid()\n",
      "    (4): Linear(in_features=10, out_features=1, bias=True)\n",
      "    (5): Sigmoid()\n",
      "  )\n",
      "  (loss): L1Loss()\n",
      ")\n"
     ]
    }
   ],
   "source": [
    "model = NeuralNetwork(input_shape=4).to(device)\n",
    "print(model)"
   ]
  },
  {
   "cell_type": "code",
   "execution_count": null,
   "id": "094941e8",
   "metadata": {
    "scrolled": false
   },
   "outputs": [
    {
     "name": "stdout",
     "output_type": "stream",
     "text": [
      "Starting Iteration\n",
      "pred tensor([[0.9997]], dtype=torch.float64) target [0.]\n",
      "completing 0 rounds, loss: tensor([[0.9997]], dtype=torch.float64)\n"
     ]
    },
    {
     "name": "stderr",
     "output_type": "stream",
     "text": [
      "/Users/albertliu/opt/anaconda3/lib/python3.9/site-packages/torch/nn/modules/loss.py:101: UserWarning: Using a target size (torch.Size([1])) that is different to the input size (torch.Size([1, 1])). This will likely lead to incorrect results due to broadcasting. Please ensure they have the same size.\n",
      "  return F.l1_loss(input, target, reduction=self.reduction)\n"
     ]
    },
    {
     "name": "stdout",
     "output_type": "stream",
     "text": [
      "pred tensor([[1.0000]], dtype=torch.float64) target [0.]\n",
      "completing 1 rounds, loss: tensor([[1.0000]], dtype=torch.float64)\n",
      "pred tensor([[1.0000]], dtype=torch.float64) target [1.]\n",
      "completing 2 rounds, loss: tensor([[1.0000]], dtype=torch.float64)\n",
      "pred tensor([[1.0000]], dtype=torch.float64) target [1.]\n",
      "completing 3 rounds, loss: tensor([[1.0000]], dtype=torch.float64)\n",
      "pred tensor([[1.0000]], dtype=torch.float64) target [0.]\n",
      "completing 4 rounds, loss: tensor([[1.0000]], dtype=torch.float64)\n",
      "pred tensor([[1.0000]], dtype=torch.float64) target [0.]\n",
      "completing 5 rounds, loss: tensor([[1.0000]], dtype=torch.float64)\n",
      "pred tensor([[1.0000]], dtype=torch.float64) target [1.]\n",
      "completing 6 rounds, loss: tensor([[1.0000]], dtype=torch.float64)\n",
      "pred tensor([[1.0000]], dtype=torch.float64) target [0.]\n",
      "completing 7 rounds, loss: tensor([[1.0000]], dtype=torch.float64)\n",
      "pred tensor([[1.0000]], dtype=torch.float64) target [1.]\n",
      "completing 8 rounds, loss: tensor([[1.0000]], dtype=torch.float64)\n",
      "pred tensor([[1.0000]], dtype=torch.float64) target [1.]\n",
      "completing 9 rounds, loss: tensor([[1.0000]], dtype=torch.float64)\n",
      "pred tensor([[1.0000]], dtype=torch.float64) target [0.]\n",
      "completing 10 rounds, loss: tensor([[1.0000]], dtype=torch.float64)\n",
      "pred tensor([[1.0000]], dtype=torch.float64) target [0.]\n",
      "completing 11 rounds, loss: tensor([[1.0000]], dtype=torch.float64)\n",
      "pred tensor([[1.0000]], dtype=torch.float64) target [0.]\n",
      "completing 12 rounds, loss: tensor([[1.0000]], dtype=torch.float64)\n",
      "pred tensor([[0.]], dtype=torch.float64) target [1.]\n",
      "completing 13 rounds, loss: tensor([[0.]], dtype=torch.float64)\n",
      "pred tensor([[0.]], dtype=torch.float64) target [0.]\n",
      "completing 14 rounds, loss: tensor([[0.]], dtype=torch.float64)\n",
      "pred tensor([[0.]], dtype=torch.float64) target [1.]\n",
      "completing 15 rounds, loss: tensor([[0.]], dtype=torch.float64)\n",
      "pred tensor([[0.]], dtype=torch.float64) target [1.]\n",
      "completing 16 rounds, loss: tensor([[0.]], dtype=torch.float64)\n",
      "pred tensor([[0.]], dtype=torch.float64) target [1.]\n",
      "completing 17 rounds, loss: tensor([[0.]], dtype=torch.float64)\n",
      "pred tensor([[0.]], dtype=torch.float64) target [1.]\n",
      "completing 18 rounds, loss: tensor([[0.]], dtype=torch.float64)\n",
      "pred tensor([[0.]], dtype=torch.float64) target [1.]\n",
      "completing 19 rounds, loss: tensor([[0.]], dtype=torch.float64)\n",
      "pred tensor([[0.]], dtype=torch.float64) target [0.]\n",
      "completing 20 rounds, loss: tensor([[0.]], dtype=torch.float64)\n",
      "pred tensor([[0.]], dtype=torch.float64) target [0.]\n",
      "completing 21 rounds, loss: tensor([[0.]], dtype=torch.float64)\n",
      "pred tensor([[0.]], dtype=torch.float64) target [0.]\n",
      "completing 22 rounds, loss: tensor([[0.]], dtype=torch.float64)\n",
      "pred tensor([[0.]], dtype=torch.float64) target [0.]\n",
      "completing 23 rounds, loss: tensor([[0.]], dtype=torch.float64)\n",
      "pred tensor([[0.]], dtype=torch.float64) target [0.]\n",
      "completing 24 rounds, loss: tensor([[0.]], dtype=torch.float64)\n",
      "pred tensor([[0.]], dtype=torch.float64) target [0.]\n",
      "completing 25 rounds, loss: tensor([[0.]], dtype=torch.float64)\n",
      "pred tensor([[0.]], dtype=torch.float64) target [0.]\n",
      "completing 26 rounds, loss: tensor([[0.]], dtype=torch.float64)\n",
      "pred tensor([[0.]], dtype=torch.float64) target [0.]\n",
      "completing 27 rounds, loss: tensor([[0.]], dtype=torch.float64)\n",
      "pred tensor([[0.]], dtype=torch.float64) target [0.]\n",
      "completing 28 rounds, loss: tensor([[0.]], dtype=torch.float64)\n",
      "pred tensor([[0.]], dtype=torch.float64) target [1.]\n",
      "completing 29 rounds, loss: tensor([[0.]], dtype=torch.float64)\n",
      "pred tensor([[0.]], dtype=torch.float64) target [1.]\n",
      "completing 30 rounds, loss: tensor([[0.]], dtype=torch.float64)\n",
      "pred tensor([[0.]], dtype=torch.float64) target [0.]\n",
      "completing 31 rounds, loss: tensor([[0.]], dtype=torch.float64)\n",
      "pred tensor([[0.]], dtype=torch.float64) target [0.]\n",
      "completing 32 rounds, loss: tensor([[0.]], dtype=torch.float64)\n",
      "pred tensor([[0.]], dtype=torch.float64) target [0.]\n",
      "completing 33 rounds, loss: tensor([[0.]], dtype=torch.float64)\n",
      "pred tensor([[0.]], dtype=torch.float64) target [1.]\n",
      "completing 34 rounds, loss: tensor([[0.]], dtype=torch.float64)\n",
      "pred tensor([[0.]], dtype=torch.float64) target [1.]\n",
      "completing 35 rounds, loss: tensor([[0.]], dtype=torch.float64)\n",
      "pred tensor([[0.]], dtype=torch.float64) target [1.]\n",
      "completing 36 rounds, loss: tensor([[0.]], dtype=torch.float64)\n",
      "pred tensor([[0.]], dtype=torch.float64) target [0.]\n",
      "completing 37 rounds, loss: tensor([[0.]], dtype=torch.float64)\n",
      "pred tensor([[0.]], dtype=torch.float64) target [0.]\n",
      "completing 38 rounds, loss: tensor([[0.]], dtype=torch.float64)\n",
      "pred tensor([[0.]], dtype=torch.float64) target [0.]\n",
      "completing 39 rounds, loss: tensor([[0.]], dtype=torch.float64)\n",
      "pred tensor([[0.]], dtype=torch.float64) target [1.]\n",
      "completing 40 rounds, loss: tensor([[0.]], dtype=torch.float64)\n",
      "pred tensor([[0.]], dtype=torch.float64) target [0.]\n",
      "completing 41 rounds, loss: tensor([[0.]], dtype=torch.float64)\n",
      "pred tensor([[0.]], dtype=torch.float64) target [0.]\n",
      "completing 42 rounds, loss: tensor([[0.]], dtype=torch.float64)\n",
      "pred tensor([[0.]], dtype=torch.float64) target [1.]\n",
      "completing 43 rounds, loss: tensor([[0.]], dtype=torch.float64)\n",
      "pred tensor([[0.]], dtype=torch.float64) target [0.]\n",
      "completing 44 rounds, loss: tensor([[0.]], dtype=torch.float64)\n",
      "pred tensor([[0.]], dtype=torch.float64) target [0.]\n",
      "completing 45 rounds, loss: tensor([[0.]], dtype=torch.float64)\n",
      "pred tensor([[0.]], dtype=torch.float64) target [0.]\n",
      "completing 46 rounds, loss: tensor([[0.]], dtype=torch.float64)\n",
      "pred tensor([[0.]], dtype=torch.float64) target [1.]\n",
      "completing 47 rounds, loss: tensor([[0.]], dtype=torch.float64)\n",
      "pred tensor([[0.]], dtype=torch.float64) target [1.]\n",
      "completing 48 rounds, loss: tensor([[0.]], dtype=torch.float64)\n",
      "pred tensor([[0.]], dtype=torch.float64) target [0.]\n",
      "completing 49 rounds, loss: tensor([[0.]], dtype=torch.float64)\n",
      "pred tensor([[0.]], dtype=torch.float64) target [1.]\n",
      "completing 50 rounds, loss: tensor([[0.]], dtype=torch.float64)\n",
      "pred tensor([[0.]], dtype=torch.float64) target [1.]\n",
      "completing 51 rounds, loss: tensor([[0.]], dtype=torch.float64)\n",
      "pred tensor([[0.]], dtype=torch.float64) target [1.]\n",
      "completing 52 rounds, loss: tensor([[0.]], dtype=torch.float64)\n",
      "pred tensor([[0.]], dtype=torch.float64) target [0.]\n",
      "completing 53 rounds, loss: tensor([[0.]], dtype=torch.float64)\n",
      "pred tensor([[0.]], dtype=torch.float64) target [0.]\n",
      "completing 54 rounds, loss: tensor([[0.]], dtype=torch.float64)\n",
      "pred tensor([[0.]], dtype=torch.float64) target [0.]\n",
      "completing 55 rounds, loss: tensor([[0.]], dtype=torch.float64)\n",
      "pred tensor([[0.]], dtype=torch.float64) target [1.]\n",
      "completing 56 rounds, loss: tensor([[0.]], dtype=torch.float64)\n",
      "pred tensor([[0.]], dtype=torch.float64) target [1.]\n",
      "completing 57 rounds, loss: tensor([[0.]], dtype=torch.float64)\n",
      "pred tensor([[0.]], dtype=torch.float64) target [1.]\n",
      "completing 58 rounds, loss: tensor([[0.]], dtype=torch.float64)\n",
      "pred tensor([[0.]], dtype=torch.float64) target [0.]\n",
      "completing 59 rounds, loss: tensor([[0.]], dtype=torch.float64)\n",
      "pred tensor([[0.]], dtype=torch.float64) target [0.]\n",
      "completing 60 rounds, loss: tensor([[0.]], dtype=torch.float64)\n",
      "pred tensor([[0.]], dtype=torch.float64) target [1.]\n",
      "completing 61 rounds, loss: tensor([[0.]], dtype=torch.float64)\n",
      "pred tensor([[0.]], dtype=torch.float64) target [1.]\n",
      "completing 62 rounds, loss: tensor([[0.]], dtype=torch.float64)\n",
      "pred tensor([[0.]], dtype=torch.float64) target [0.]\n",
      "completing 63 rounds, loss: tensor([[0.]], dtype=torch.float64)\n",
      "pred tensor([[0.]], dtype=torch.float64) target [1.]\n",
      "completing 64 rounds, loss: tensor([[0.]], dtype=torch.float64)\n",
      "pred tensor([[0.]], dtype=torch.float64) target [1.]\n",
      "completing 65 rounds, loss: tensor([[0.]], dtype=torch.float64)\n",
      "pred tensor([[0.]], dtype=torch.float64) target [1.]\n",
      "completing 66 rounds, loss: tensor([[0.]], dtype=torch.float64)\n",
      "pred tensor([[0.]], dtype=torch.float64) target [0.]\n",
      "completing 67 rounds, loss: tensor([[0.]], dtype=torch.float64)\n",
      "pred tensor([[0.]], dtype=torch.float64) target [0.]\n",
      "completing 68 rounds, loss: tensor([[0.]], dtype=torch.float64)\n",
      "pred tensor([[0.]], dtype=torch.float64) target [0.]\n",
      "completing 69 rounds, loss: tensor([[0.]], dtype=torch.float64)\n",
      "pred tensor([[0.]], dtype=torch.float64) target [0.]\n",
      "completing 70 rounds, loss: tensor([[0.]], dtype=torch.float64)\n"
     ]
    },
    {
     "name": "stdout",
     "output_type": "stream",
     "text": [
      "pred tensor([[0.]], dtype=torch.float64) target [0.]\n",
      "completing 71 rounds, loss: tensor([[0.]], dtype=torch.float64)\n",
      "pred tensor([[0.]], dtype=torch.float64) target [0.]\n",
      "completing 72 rounds, loss: tensor([[0.]], dtype=torch.float64)\n",
      "pred tensor([[0.]], dtype=torch.float64) target [1.]\n",
      "completing 73 rounds, loss: tensor([[0.]], dtype=torch.float64)\n",
      "pred tensor([[0.]], dtype=torch.float64) target [1.]\n",
      "completing 74 rounds, loss: tensor([[0.]], dtype=torch.float64)\n",
      "pred tensor([[0.]], dtype=torch.float64) target [1.]\n",
      "completing 75 rounds, loss: tensor([[0.]], dtype=torch.float64)\n",
      "pred tensor([[0.]], dtype=torch.float64) target [1.]\n",
      "completing 76 rounds, loss: tensor([[0.]], dtype=torch.float64)\n",
      "pred tensor([[0.]], dtype=torch.float64) target [1.]\n",
      "completing 77 rounds, loss: tensor([[0.]], dtype=torch.float64)\n"
     ]
    }
   ],
   "source": [
    "learning_rate = 1\n",
    "\n",
    "print(\"Starting Iteration\")\n",
    "for t in range(100):\n",
    "    # Forward pass: compute predicted y by passing x to the model. Module objects\n",
    "    # override the __call__ operator so you can call them like functions. When\n",
    "    # doing so you pass a Tensor of input data to the Module and it produces\n",
    "    # a Tensor of output data.\n",
    "    for i in range(train_size//train_batch_size):\n",
    "        x_tr, y_tr = next(iter(train_loader))\n",
    "        y_pred = model(x_tr).reshape(y_tr.shape)\n",
    "\n",
    "        # Compute and print loss. We pass Tensors containing the predicted and true\n",
    "        # values of y, and the loss function returns a Tensor containing the\n",
    "        # loss.\n",
    "        loss = model.loss(y_pred, y_tr)\n",
    "\n",
    "        # Zero the gradients before running the backward pass.\n",
    "        model.zero_grad()\n",
    "\n",
    "        # Backward pass: compute gradient of the loss with respect to all the learnable\n",
    "        # parameters of the model. Internally, the parameters of each Module are stored\n",
    "        # in Tensors with requires_grad=True, so this call will compute gradients for\n",
    "        # all learnable parameters in the model.\n",
    "        loss.backward()\n",
    "\n",
    "        # Update the weights using gradient descent. Each parameter is a Tensor, so\n",
    "        # we can access its gradients like we did before.\n",
    "        with torch.no_grad():\n",
    "            learning_rate = learning_rate/1+t\n",
    "            for param in model.parameters():\n",
    "                param -= learning_rate * param.grad\n",
    "    \n",
    "    with torch.no_grad():\n",
    "        random_ids = np.random.randint(train_size, size=train_batch_size)\n",
    "        random_x, random_y = dataset_train[random_ids]\n",
    "        pred = model(torch.from_numpy(random_x))\n",
    "        print(\"pred\", pred, \"target\", random_y)\n",
    "        l = model.loss(pred, torch.from_numpy(random_y).to(torch.double))\n",
    "        print(\"completing \" + str(t) + \" rounds, loss: \" + str(pred))"
   ]
  },
  {
   "cell_type": "code",
   "execution_count": null,
   "id": "571c500f",
   "metadata": {},
   "outputs": [],
   "source": [
    "'''\n",
    "class Test_Dataset(Dataset):\n",
    "    def __init__(self, file, encode_categorical=False):\n",
    "        self.loadedFrom = file\n",
    "\n",
    "        data = np.genfromtxt(file, delimiter=',', dtype='str')\n",
    "        data = data[1:data.shape[0],]\n",
    "        n_row, n_col = data.shape\n",
    "        self.id, self.X = data[:,0:1], data[:,1:n_col]\n",
    "    \n",
    "        oe = preprocessing.OrdinalEncoder()\n",
    "        oe.fit(self.X)\n",
    "        self.X = oe.transform(self.X)\n",
    "                \n",
    "    def __len__(self):\n",
    "        return self.X.shape[0]\n",
    "\n",
    "    def __getitem__(self, idx):\n",
    "        return self.X[idx]\n",
    "'''\n",
    "\n",
    "class Test_Dataset(Dataset):\n",
    "    def __init__(self, file, encode_categorical=False):\n",
    "        self.loadedFrom = file\n",
    "\n",
    "        data = np.genfromtxt(file, delimiter=',', dtype='str')\n",
    "        data = data[1:data.shape[0],]\n",
    "        n_row, n_col = data.shape\n",
    "        self.X, self.Y = data[:,0:n_col-1].astype(np.float64), data[:,n_col-1].astype(np.float64)\n",
    "    \n",
    "        # oe = preprocessing.OrdinalEncoder()\n",
    "        # oe.fit(self.X)\n",
    "        # self.X = oe.transform(self.X)\n",
    "                \n",
    "    def __len__(self):\n",
    "        return self.X.shape[0]\n",
    "\n",
    "    def __getitem__(self, idx):\n",
    "        return self.X[idx], self.Y[idx]"
   ]
  },
  {
   "cell_type": "code",
   "execution_count": null,
   "id": "9f092a04",
   "metadata": {},
   "outputs": [],
   "source": [
    "dataset_test = Test_Dataset(test_path, encode_categorical=True)\n",
    "test_loader = DataLoader(dataset_test, batch_size=1, shuffle=False)"
   ]
  },
  {
   "cell_type": "code",
   "execution_count": null,
   "id": "8bb4d671",
   "metadata": {
    "scrolled": false
   },
   "outputs": [],
   "source": [
    "# Disable grad\n",
    "with torch.no_grad():\n",
    "    \n",
    "    for i in range(100):\n",
    "        _x, _y = np.asarray(dataset_test[i])\n",
    "        item = torch.from_numpy(_x)\n",
    "\n",
    "        # Generate prediction\n",
    "        prediction = model(item)\n",
    "        print(\"i=\", prediction)\n",
    "\n",
    "        # Predicted class value using argmax\n",
    "        predicted_class = np.argmax(prediction)\n",
    "        print(\"i=\", predicted_class)"
   ]
  },
  {
   "cell_type": "code",
   "execution_count": null,
   "id": "cb68e286",
   "metadata": {},
   "outputs": [],
   "source": []
  }
 ],
 "metadata": {
  "kernelspec": {
   "display_name": "Python 3 (ipykernel)",
   "language": "python",
   "name": "python3"
  },
  "language_info": {
   "codemirror_mode": {
    "name": "ipython",
    "version": 3
   },
   "file_extension": ".py",
   "mimetype": "text/x-python",
   "name": "python",
   "nbconvert_exporter": "python",
   "pygments_lexer": "ipython3",
   "version": "3.9.12"
  }
 },
 "nbformat": 4,
 "nbformat_minor": 5
}
